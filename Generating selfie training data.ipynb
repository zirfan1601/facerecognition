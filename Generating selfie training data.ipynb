{
 "cells": [
  {
   "cell_type": "code",
   "execution_count": 1,
   "metadata": {},
   "outputs": [
    {
     "ename": "ModuleNotFoundError",
     "evalue": "No module named 'cv2'",
     "output_type": "error",
     "traceback": [
      "\u001b[1;31m---------------------------------------------------------------------------\u001b[0m",
      "\u001b[1;31mModuleNotFoundError\u001b[0m                       Traceback (most recent call last)",
      "\u001b[1;32m<ipython-input-1-ca33a64a4e51>\u001b[0m in \u001b[0;36m<module>\u001b[1;34m\u001b[0m\n\u001b[0;32m      9\u001b[0m \u001b[1;33m\u001b[0m\u001b[0m\n\u001b[0;32m     10\u001b[0m \u001b[1;33m\u001b[0m\u001b[0m\n\u001b[1;32m---> 11\u001b[1;33m \u001b[1;32mimport\u001b[0m \u001b[0mcv2\u001b[0m\u001b[1;33m\u001b[0m\u001b[1;33m\u001b[0m\u001b[0m\n\u001b[0m\u001b[0;32m     12\u001b[0m \u001b[1;32mimport\u001b[0m \u001b[0mnumpy\u001b[0m \u001b[1;32mas\u001b[0m \u001b[0mnp\u001b[0m\u001b[1;33m\u001b[0m\u001b[1;33m\u001b[0m\u001b[0m\n\u001b[0;32m     13\u001b[0m \u001b[1;33m\u001b[0m\u001b[0m\n",
      "\u001b[1;31mModuleNotFoundError\u001b[0m: No module named 'cv2'"
     ]
    }
   ],
   "source": [
    "# Write a Python Script that captures images from your webcam video stream\n",
    "# Extracts all Faces from the image frame (using haarcascades)\n",
    "# Stores the Face information into numpy arrays\n",
    "\n",
    "# 1. Read and show video stream, capture images\n",
    "# 2. Detect Faces and show bounding box (haarcascade)\n",
    "# 3. Flatten the largest face image(gray scale) and save in a numpy array\n",
    "# 4. Repeat the above for multiple people to generate training data\n",
    "\n",
    "\n",
    "import cv2\n",
    "import numpy as np\n",
    "\n",
    "#Init Camera\n",
    "cap = cv2.VideoCapture(0)\n",
    "\n",
    "# Face Detection\n",
    "face_cascade = cv2.CascadeClassifier(\"haarcascade_frontalface_alt.xml\")\n",
    "\n",
    "skip = 0\n",
    "face_data = []\n",
    "dataset_path = './data/'\n",
    "file_name = input(\"Enter the name of the person : \")\n",
    "while True:\n",
    "\tret,frame = cap.read()\n",
    "\n",
    "\tif ret==False:\n",
    "\t\tcontinue\n",
    "\n",
    "\tgray_frame = cv2.cvtColor(frame,cv2.COLOR_BGR2GRAY)\n",
    "\t\n",
    "\n",
    "\tfaces = face_cascade.detectMultiScale(frame,1.3,5)\n",
    "\tif len(faces)==0:\n",
    "\t\tcontinue\n",
    "\t\t\n",
    "\tfaces = sorted(faces,key=lambda f:f[2]*f[3])\n",
    "\n",
    "\t# Pick the last face (because it is the largest face acc to area(f[2]*f[3]))\n",
    "\tfor face in faces[-1:]:\n",
    "\t\tx,y,w,h = face\n",
    "\t\tcv2.rectangle(frame,(x,y),(x+w,y+h),(0,255,255),2)\n",
    "\n",
    "\t\t#Extract (Crop out the required face) : Region of Interest\n",
    "\t\toffset = 10\n",
    "\t\tface_section = frame[y-offset:y+h+offset,x-offset:x+w+offset]\n",
    "\t\tface_section = cv2.resize(face_section,(100,100))\n",
    "\n",
    "\t\tskip += 1\n",
    "\t\tif skip%10==0:\n",
    "\t\t\tface_data.append(face_section)\n",
    "\t\t\tprint(len(face_data))\n",
    "\n",
    "\n",
    "\tcv2.imshow(\"Frame\",frame)\n",
    "\tcv2.imshow(\"Face Section\",face_section)\n",
    "\n",
    "\tkey_pressed = cv2.waitKey(1) & 0xFF\n",
    "\tif key_pressed == ord('q'):\n",
    "\t\tbreak\n",
    "\n",
    "# Convert our face list array into a numpy array\n",
    "face_data = np.asarray(face_data)\n",
    "face_data = face_data.reshape((face_data.shape[0],-1))\n",
    "print(face_data.shape)\n",
    "\n",
    "# Save this data into file system\n",
    "np.save(dataset_path+file_name+'.npy',face_data)\n",
    "print(\"Data Successfully save at \"+dataset_path+file_name+'.npy')\n",
    "\n",
    "cap.release()\n",
    "cv2.destroyAllWindows()\n",
    "\n",
    "\n"
   ]
  },
  {
   "cell_type": "code",
   "execution_count": 2,
   "metadata": {},
   "outputs": [
    {
     "name": "stdout",
     "output_type": "stream",
     "text": [
      "Note: you may need to restart the kernel to use updated packages.\n"
     ]
    },
    {
     "name": "stderr",
     "output_type": "stream",
     "text": [
      "ERROR: Could not find a version that satisfies the requirement cv2\n",
      "ERROR: No matching distribution found for cv2\n"
     ]
    }
   ],
   "source": []
  },
  {
   "cell_type": "code",
   "execution_count": null,
   "metadata": {},
   "outputs": [],
   "source": [
    "q"
   ]
  }
 ],
 "metadata": {
  "kernelspec": {
   "display_name": "Python 3",
   "language": "python",
   "name": "python3"
  },
  "language_info": {
   "codemirror_mode": {
    "name": "ipython",
    "version": 3
   },
   "file_extension": ".py",
   "mimetype": "text/x-python",
   "name": "python",
   "nbconvert_exporter": "python",
   "pygments_lexer": "ipython3",
   "version": "3.8.8"
  }
 },
 "nbformat": 4,
 "nbformat_minor": 2
}
